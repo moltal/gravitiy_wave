{
  "nbformat": 4,
  "nbformat_minor": 0,
  "metadata": {
    "colab": {
      "name": "sample",
      "version": "0.3.2",
      "provenance": []
    }
  },
  "cells": [
    {
      "cell_type": "markdown",
      "metadata": {
        "id": "view-in-github",
        "colab_type": "text"
      },
      "source": [
        "[View in Colaboratory](https://colab.research.google.com/github/moltal/gravitiy_wave/blob/master/sample.ipynb)"
      ]
    },
    {
      "metadata": {
        "id": "-bQUqNnoUNqa",
        "colab_type": "code",
        "colab": {
          "base_uri": "https://localhost:8080/",
          "height": 34
        },
        "outputId": "fec6b03c-ffa5-4e65-b451-3199f6f7ab54"
      },
      "cell_type": "code",
      "source": [
        "print('aaa')"
      ],
      "execution_count": 2,
      "outputs": [
        {
          "output_type": "stream",
          "text": [
            "aaa\n"
          ],
          "name": "stdout"
        }
      ]
    },
    {
      "metadata": {
        "id": "99_6eLaiUlSZ",
        "colab_type": "code",
        "colab": {}
      },
      "cell_type": "code",
      "source": [
        "sadfag"
      ],
      "execution_count": 0,
      "outputs": []
    }
  ]
}